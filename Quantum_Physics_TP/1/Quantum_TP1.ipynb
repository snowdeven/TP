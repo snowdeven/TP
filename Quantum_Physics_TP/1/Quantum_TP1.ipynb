{
  "metadata": {
    "language_info": {
      "codemirror_mode": {
        "name": "python",
        "version": 3
      },
      "file_extension": ".py",
      "mimetype": "text/x-python",
      "name": "python",
      "nbconvert_exporter": "python",
      "pygments_lexer": "ipython3",
      "version": "3.8"
    },
    "kernelspec": {
      "name": "python",
      "display_name": "Python (Pyodide)",
      "language": "python"
    }
  },
  "nbformat_minor": 4,
  "nbformat": 4,
  "cells": [
    {
      "cell_type": "markdown",
      "source": "<!DOCTYPE html>\n<html>\n<head>\n<meta charset=\"UTF-8\">\n</head>\n<body>\n    \n    \n<div style=\"font-family:Georgia\" align=\"center\">\n<h1 align=\"center\">Quantum mechanics - Computation activities</h1>\n<h1 align=\"center\"><span style=\"text-decoration: gray underline overline\" > Numerical integration of the Schrödinger equation</span></h1>\n    \n<br>\n<br>\n<br>\n    \n<h3> By: </h3>\n<h3> Maxmime lepetit </h3>\n<h3> Le trépané </h3>\n    \n<br>\n<br>\n<br>\n    \n<h3> Supervisor :</h3>\n<h3> David Viennot </h3>\n    \n<br>\n<br>\n<br>\n\n<h4> $5^{th}$ november 2022 <h4> \n\n    \n    \n</div>\n</body> \n</html>",
      "metadata": {}
    },
    {
      "cell_type": "markdown",
      "source": "<h2 style=\"font-family:Georgia;text-decoration:gray underline\">Introduction :</h2>",
      "metadata": {}
    },
    {
      "cell_type": "markdown",
      "source": "<h2 style=\"font-family:Georgia;text-decoration:gray underline\">Theory :</h2>",
      "metadata": {}
    },
    {
      "cell_type": "markdown",
      "source": "<h2 style=\"font-family:Georgia;text-decoration:gray underline\">Application:</h2>",
      "metadata": {}
    },
    {
      "cell_type": "markdown",
      "source": "<h2 style=\"font-family:Georgia;text-decoration:gray underline\">Conclusion :</h2>",
      "metadata": {}
    },
    {
      "cell_type": "code",
      "source": "",
      "metadata": {},
      "execution_count": null,
      "outputs": []
    }
  ]
}